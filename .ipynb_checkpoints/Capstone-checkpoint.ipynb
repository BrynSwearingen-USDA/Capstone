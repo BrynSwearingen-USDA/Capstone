{
 "cells": [
  {
   "cell_type": "markdown",
   "id": "6079b96b-754a-411c-8cea-462571d65ea0",
   "metadata": {},
   "source": [
    "# CAPSTONE PYTHON BEGINNER PROJECT"
   ]
  },
  {
   "cell_type": "markdown",
   "id": "1d1f0876-bbe8-429a-ac11-b8de80e7a65c",
   "metadata": {},
   "source": [
    "## LOAD IN THE PACKAGES"
   ]
  },
  {
   "cell_type": "code",
   "execution_count": 1,
   "id": "a855fb2b-8156-4d04-90a6-f181c4a52b0a",
   "metadata": {},
   "outputs": [],
   "source": [
    "import numpy as np\n",
    "import matplotlib.pyplot as plt\n",
    "import pandas as pd"
   ]
  },
  {
   "cell_type": "markdown",
   "id": "3a314cef-3607-4e42-9024-6c27d74b597e",
   "metadata": {},
   "source": [
    "## LOAD IN THE DATA"
   ]
  },
  {
   "cell_type": "code",
   "execution_count": 2,
   "id": "eb94f4c9-ce31-454f-888b-979b8b0e300a",
   "metadata": {},
   "outputs": [],
   "source": [
    "yearbook = pd.read_csv('OilCropsAllTables.csv')"
   ]
  },
  {
   "cell_type": "code",
   "execution_count": 3,
   "id": "788225c9-7887-48cc-85b7-40c6dd79f8da",
   "metadata": {},
   "outputs": [
    {
     "name": "stdout",
     "output_type": "stream",
     "text": [
      "  Timeperiod_Desc Marketing_Year     MY_Definition Commodity_Group Commodity  \\\n",
      "0      December 1        1999/00  September-August        Oilseeds  Soybeans   \n",
      "1      December 1        1999/00  September-August        Oilseeds  Soybeans   \n",
      "2      December 1        1999/00  September-August        Oilseeds  Soybeans   \n",
      "3         March 1        1999/00  September-August        Oilseeds  Soybeans   \n",
      "4         March 1        1999/00  September-August        Oilseeds  Soybeans   \n",
      "\n",
      "  Commodity_Desc2    Attribute_Desc   Attribute_Desc2 Geography_Desc  \\\n",
      "0        Soybeans   On-farm storage   On-farm storage  United States   \n",
      "1        Soybeans  Off-farm storage  Off-farm storage  United States   \n",
      "2        Soybeans     Total storage     Total storage  United States   \n",
      "3        Soybeans   On-farm storage   On-farm storage  United States   \n",
      "4        Soybeans  Off-farm storage  Off-farm storage  United States   \n",
      "\n",
      "  Geography_Desc2     Amount         Unit_Desc  Table_number  \\\n",
      "0   United States  1150000.0  Thousand bushels             1   \n",
      "1   United States  1032666.0  Thousand bushels             1   \n",
      "2   United States  2182666.0  Thousand bushels             1   \n",
      "3   United States   730000.0  Thousand bushels             1   \n",
      "4   United States   665986.0  Thousand bushels             1   \n",
      "\n",
      "                                          Table_name  \n",
      "0  Table 1—Soybean stocks: U.S. onfarm, off-farm,...  \n",
      "1  Table 1—Soybean stocks: U.S. onfarm, off-farm,...  \n",
      "2  Table 1—Soybean stocks: U.S. onfarm, off-farm,...  \n",
      "3  Table 1—Soybean stocks: U.S. onfarm, off-farm,...  \n",
      "4  Table 1—Soybean stocks: U.S. onfarm, off-farm,...  \n"
     ]
    }
   ],
   "source": [
    "print(yearbook.head())"
   ]
  },
  {
   "cell_type": "markdown",
   "id": "c1b71f7d-4179-473d-9f51-1b953c4a39ea",
   "metadata": {},
   "source": [
    "### Graph stocks by quarter"
   ]
  },
  {
   "cell_type": "code",
   "execution_count": null,
   "id": "d305d44f-2d1e-4ab5-a4d3-184e8110772b",
   "metadata": {},
   "outputs": [],
   "source": []
  }
 ],
 "metadata": {
  "kernelspec": {
   "display_name": "Python 3 (ipykernel)",
   "language": "python",
   "name": "python3"
  },
  "language_info": {
   "codemirror_mode": {
    "name": "ipython",
    "version": 3
   },
   "file_extension": ".py",
   "mimetype": "text/x-python",
   "name": "python",
   "nbconvert_exporter": "python",
   "pygments_lexer": "ipython3",
   "version": "3.12.0"
  }
 },
 "nbformat": 4,
 "nbformat_minor": 5
}
