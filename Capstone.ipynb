{
 "cells": [
  {
   "cell_type": "markdown",
   "id": "6079b96b-754a-411c-8cea-462571d65ea0",
   "metadata": {},
   "source": [
    "# CAPSTONE PYTHON BEGINNER PROJECT"
   ]
  },
  {
   "cell_type": "markdown",
   "id": "1d1f0876-bbe8-429a-ac11-b8de80e7a65c",
   "metadata": {},
   "source": [
    "## LOAD IN THE PACKAGES"
   ]
  },
  {
   "cell_type": "code",
   "execution_count": 21,
   "id": "a855fb2b-8156-4d04-90a6-f181c4a52b0a",
   "metadata": {},
   "outputs": [],
   "source": [
    "import numpy as np\n",
    "import matplotlib.pyplot as plt\n",
    "import pandas as pd\n",
    "import pyodbc\n",
    "from sqlalchemy import create_engine"
   ]
  },
  {
   "cell_type": "markdown",
   "id": "3a314cef-3607-4e42-9024-6c27d74b597e",
   "metadata": {},
   "source": [
    "## LOAD IN THE DATA"
   ]
  },
  {
   "cell_type": "code",
   "execution_count": 2,
   "id": "eb94f4c9-ce31-454f-888b-979b8b0e300a",
   "metadata": {},
   "outputs": [],
   "source": [
    "yearbook = pd.read_csv('OilCropsAllTables.csv')"
   ]
  },
  {
   "cell_type": "code",
   "execution_count": 3,
   "id": "788225c9-7887-48cc-85b7-40c6dd79f8da",
   "metadata": {},
   "outputs": [
    {
     "name": "stdout",
     "output_type": "stream",
     "text": [
      "  Timeperiod_Desc Marketing_Year     MY_Definition Commodity_Group Commodity  \\\n",
      "0      December 1        1999/00  September-August        Oilseeds  Soybeans   \n",
      "1      December 1        1999/00  September-August        Oilseeds  Soybeans   \n",
      "2      December 1        1999/00  September-August        Oilseeds  Soybeans   \n",
      "3         March 1        1999/00  September-August        Oilseeds  Soybeans   \n",
      "4         March 1        1999/00  September-August        Oilseeds  Soybeans   \n",
      "\n",
      "  Commodity_Desc2    Attribute_Desc   Attribute_Desc2 Geography_Desc  \\\n",
      "0        Soybeans   On-farm storage   On-farm storage  United States   \n",
      "1        Soybeans  Off-farm storage  Off-farm storage  United States   \n",
      "2        Soybeans     Total storage     Total storage  United States   \n",
      "3        Soybeans   On-farm storage   On-farm storage  United States   \n",
      "4        Soybeans  Off-farm storage  Off-farm storage  United States   \n",
      "\n",
      "  Geography_Desc2     Amount         Unit_Desc  Table_number  \\\n",
      "0   United States  1150000.0  Thousand bushels             1   \n",
      "1   United States  1032666.0  Thousand bushels             1   \n",
      "2   United States  2182666.0  Thousand bushels             1   \n",
      "3   United States   730000.0  Thousand bushels             1   \n",
      "4   United States   665986.0  Thousand bushels             1   \n",
      "\n",
      "                                          Table_name  \n",
      "0  Table 1—Soybean stocks: U.S. onfarm, off-farm,...  \n",
      "1  Table 1—Soybean stocks: U.S. onfarm, off-farm,...  \n",
      "2  Table 1—Soybean stocks: U.S. onfarm, off-farm,...  \n",
      "3  Table 1—Soybean stocks: U.S. onfarm, off-farm,...  \n",
      "4  Table 1—Soybean stocks: U.S. onfarm, off-farm,...  \n"
     ]
    }
   ],
   "source": [
    "print(yearbook.head())"
   ]
  },
  {
   "cell_type": "markdown",
   "id": "764e28c1-244e-4e37-87cb-799215553583",
   "metadata": {},
   "source": [
    "#### sqlite that we learned in datacamp does not work for the mysql server that we have so you need pyodbc but to use pandas to create df this is the connection"
   ]
  },
  {
   "cell_type": "code",
   "execution_count": 144,
   "id": "2c206ddc-b43c-4247-bf4a-d1e188b2d8db",
   "metadata": {},
   "outputs": [],
   "source": [
    "engine = create_engine('mssql+pyodbc://aergcazu3dbprd1/NASSQUICKSTATS?driver=ODBC+Driver+17+for+SQL+Server')"
   ]
  },
  {
   "cell_type": "code",
   "execution_count": 145,
   "id": "5f866f4a-402f-4cb3-9b9d-91bf8e5bee31",
   "metadata": {
    "editable": true,
    "scrolled": true,
    "slideshow": {
     "slide_type": ""
    },
    "tags": []
   },
   "outputs": [],
   "source": [
    "df = pd.read_sql(\"SELECT * FROM QSData.NASS_QuickStats_Survey_Crops WHERE COMMODITY_DESC='SOYBEANS' and STATISTICCAT_DESC = 'STOCKS' and AGG_LEVEL_DESC='NATIONAL'\", engine)"
   ]
  },
  {
   "cell_type": "code",
   "execution_count": 149,
   "id": "e40ec8b6-34e1-4bae-9369-50142b2e2a6e",
   "metadata": {},
   "outputs": [
    {
     "name": "stdout",
     "output_type": "stream",
     "text": [
      "  SOURCE_DESC SECTOR_DESC   GROUP_DESC COMMODITY_DESC   CLASS_DESC  \\\n",
      "0      SURVEY       CROPS  FIELD CROPS       SOYBEANS  ALL CLASSES   \n",
      "1      SURVEY       CROPS  FIELD CROPS       SOYBEANS  ALL CLASSES   \n",
      "2      SURVEY       CROPS  FIELD CROPS       SOYBEANS  ALL CLASSES   \n",
      "3      SURVEY       CROPS  FIELD CROPS       SOYBEANS  ALL CLASSES   \n",
      "4      SURVEY       CROPS  FIELD CROPS       SOYBEANS  ALL CLASSES   \n",
      "\n",
      "        PRODN_PRACTICE_DESC         UTIL_PRACTICE_DESC STATISTICCAT_DESC  \\\n",
      "0  ALL PRODUCTION PRACTICES                    ON FARM            STOCKS   \n",
      "1  ALL PRODUCTION PRACTICES                   OFF FARM            STOCKS   \n",
      "2  ALL PRODUCTION PRACTICES  ALL UTILIZATION PRACTICES            STOCKS   \n",
      "3  ALL PRODUCTION PRACTICES                    ON FARM            STOCKS   \n",
      "4  ALL PRODUCTION PRACTICES                   OFF FARM            STOCKS   \n",
      "\n",
      "  UNIT_DESC                                   SHORT_DESC  ...      FREQ_DESC  \\\n",
      "0        BU   SOYBEANS, ON FARM - STOCKS, MEASURED IN BU  ...  POINT IN TIME   \n",
      "1        BU  SOYBEANS, OFF FARM - STOCKS, MEASURED IN BU  ...  POINT IN TIME   \n",
      "2        BU            SOYBEANS - STOCKS, MEASURED IN BU  ...  POINT IN TIME   \n",
      "3        BU   SOYBEANS, ON FARM - STOCKS, MEASURED IN BU  ...  POINT IN TIME   \n",
      "4        BU  SOYBEANS, OFF FARM - STOCKS, MEASURED IN BU  ...  POINT IN TIME   \n",
      "\n",
      "  BEGIN_CODE END_CODE REFERENCE_PERIOD_DESC WEEK_ENDING            LOAD_TIME  \\\n",
      "0         12       12          FIRST OF DEC        None  2012-01-01 00:00:00   \n",
      "1         12       12          FIRST OF DEC        None  2012-01-01 00:00:00   \n",
      "2         06       06          FIRST OF JUN        None  2012-01-01 00:00:00   \n",
      "3         09       09          FIRST OF SEP        None  2012-01-01 00:00:00   \n",
      "4         09       09          FIRST OF SEP        None  2012-01-01 00:00:00   \n",
      "\n",
      "         VALUE CV_PCT Value_Numeric CVPCT_Numeric  \n",
      "0  104,546,000    \u0000\\r   104546000.0          None  \n",
      "1  262,168,000    \u0000\\r   262168000.0          None  \n",
      "2  790,624,000    \u0000\\r   790624000.0          None  \n",
      "3  107,950,000    \u0000\\r   107950000.0          None  \n",
      "4    6,018,000    \u0000\\r     6018000.0          None  \n",
      "\n",
      "[5 rows x 41 columns]\n"
     ]
    }
   ],
   "source": [
    "print(df.head())"
   ]
  },
  {
   "cell_type": "markdown",
   "id": "c1b71f7d-4179-473d-9f51-1b953c4a39ea",
   "metadata": {},
   "source": [
    "### Graph stocks by quarter"
   ]
  },
  {
   "cell_type": "code",
   "execution_count": null,
   "id": "d305d44f-2d1e-4ab5-a4d3-184e8110772b",
   "metadata": {},
   "outputs": [],
   "source": []
  }
 ],
 "metadata": {
  "kernelspec": {
   "display_name": "Python 3 (ipykernel)",
   "language": "python",
   "name": "python3"
  },
  "language_info": {
   "codemirror_mode": {
    "name": "ipython",
    "version": 3
   },
   "file_extension": ".py",
   "mimetype": "text/x-python",
   "name": "python",
   "nbconvert_exporter": "python",
   "pygments_lexer": "ipython3",
   "version": "3.12.0"
  }
 },
 "nbformat": 4,
 "nbformat_minor": 5
}
